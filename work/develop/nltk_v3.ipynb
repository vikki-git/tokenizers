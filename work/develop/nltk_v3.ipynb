{
 "cells": [
  {
   "cell_type": "code",
   "execution_count": 238,
   "metadata": {},
   "outputs": [],
   "source": [
    "from nltk.tokenize import word_tokenize\n",
    "from nltk.stem.porter import PorterStemmer\n",
    "from nltk.stem import WordNetLemmatizer\n",
    "import string\n",
    "import re\n",
    "import hashlib\n",
    "from nltk.corpus import stopwords"
   ]
  },
  {
   "cell_type": "code",
   "execution_count": 9,
   "metadata": {},
   "outputs": [],
   "source": [
    "porter = PorterStemmer()\n",
    "wordnet_lemmatizer = WordNetLemmatizer()\n",
    "stop_words = set(stopwords.words('english'))"
   ]
  },
  {
   "cell_type": "markdown",
   "metadata": {},
   "source": [
    "# load data"
   ]
  },
  {
   "cell_type": "code",
   "execution_count": 45,
   "metadata": {},
   "outputs": [],
   "source": [
    "filename = '../data/initial.txt'\n",
    "file = open(filename, 'rt')\n",
    "text = file.read()\n",
    "file.close()"
   ]
  },
  {
   "cell_type": "code",
   "execution_count": 151,
   "metadata": {},
   "outputs": [],
   "source": [
    "text=text.lower()"
   ]
  },
  {
   "cell_type": "code",
   "execution_count": 228,
   "metadata": {},
   "outputs": [],
   "source": [
    "def token_filter1(t):\n",
    "    return (not (t in string.punctuation) | (t in stop_words)) & ((not len(t) <= 3) & t.isalpha())"
   ]
  },
  {
   "cell_type": "code",
   "execution_count": 229,
   "metadata": {},
   "outputs": [],
   "source": [
    "def token_filter(tokens):\n",
    "    tokens = [t for t in tokens if not (t in string.punctuation) | (t in stop_words)]\n",
    "    tokens = [t for t in tokens if (not len(t) <= 3) & t.isalpha()]\n",
    "\n",
    "    return tokens"
   ]
  },
  {
   "cell_type": "code",
   "execution_count": 230,
   "metadata": {},
   "outputs": [],
   "source": [
    "def stem(tokens):\n",
    "    return [porter.stem(token) for token in tokens]"
   ]
  },
  {
   "cell_type": "code",
   "execution_count": 231,
   "metadata": {},
   "outputs": [],
   "source": [
    "def lemmatize(tokens):\n",
    "    return [wordnet_lemmatizer.lemmatize(token) for token in tokens]"
   ]
  },
  {
   "cell_type": "code",
   "execution_count": 265,
   "metadata": {},
   "outputs": [],
   "source": [
    "def hash(tokens):\n",
    "    return[hashlib.sha256(t.encode()).hexdigest() for t in tokens]"
   ]
  },
  {
   "cell_type": "code",
   "execution_count": 266,
   "metadata": {},
   "outputs": [
    {
     "name": "stdout",
     "output_type": "stream",
     "text": [
      "['d548c5b83fa61d8e3bd86ad42a7ffea9b7c86e3f9d8095c1577d3e1270bb9420', 'f839161355091fcd9e33f571e0b11c60217a5009f9973e769c13d7858db162cc', '35390f5453e810b6248028c63e5860ce4b2ec6401d3849a7f4f871c0d183c22b', 'b28b1ed9821f38c64524ea13e19264bb0772f8376afffd5d8a1f8277621833eb', '8c90cbf5d27d61f534ee012ea472714b0149ee526e43e0903ff7f07ce7ea4758', 'dc64336a2d181fbc049d3f3d2c09c24a11a8a024eb632476fc16e61be0feda29', '9bfac98c5b6579fbb4b8d692c608d0aac4d9bf74ddda202976b2f29330ada888', '50d858e0985ecc7f60418aaf0cc5ab587f42c2570a884095a9e8ccacd0f6545c', 'bbfcd4160a1e8674dac62292ae48be4785262ad7078f9ec11b74a254ce70fa06', 'a42d519714d616e9411dbceec4b52808bd6b1ee53e6f6497a281d655357d8b71', '1f64fff08d787e732e04559f4d241876b399d9d4251af79833bd22adbb2d331a', 'b3eacd33433b31b5252351032c9b3e7a2e7aa7738d5decdf0dd6c62680853c06', '1fe289205936c3fdb61158223892c7a8bee6ff4dfa085ea1c094ce0294e32114', '16367aacb67a4a017c8da8ab95682ccb390863780f7114dda0a0e0c55644c7c4', 'a42d519714d616e9411dbceec4b52808bd6b1ee53e6f6497a281d655357d8b71', '1f64fff08d787e732e04559f4d241876b399d9d4251af79833bd22adbb2d331a', '3549b0028b75d981cdda2e573e9cb49dedc200185876df299f912b79f69dabd8', 'b3eacd33433b31b5252351032c9b3e7a2e7aa7738d5decdf0dd6c62680853c06', 'f839161355091fcd9e33f571e0b11c60217a5009f9973e769c13d7858db162cc', '1fe289205936c3fdb61158223892c7a8bee6ff4dfa085ea1c094ce0294e32114', 'a7cd62b5948d9355c4d2c792a8b5dfbc1b2e3baff78d7624d027a647cd84ab62', 'c0cea2dd285281f7893d49fb1f28644d36777194b1c4655dbeb3b49944daa04f', 'dc64336a2d181fbc049d3f3d2c09c24a11a8a024eb632476fc16e61be0feda29', 'afed2f77cefe58d821f08e334aeb42e52facc63c4f97e9d5d18f53fd0e285953', '1e6ed65d77d6364eeaed5a745ba5c4985ae2b700dd85d7cf7f027bdf294a33fc', 'f9d35d43770d39092a663e665e82ae1d84a9e0da3d0d10c407acada6a40cd281', '01cfc309bfc026dd4c48b8c92e1fa89ff3ad31e831e1355002d32c7a6cf6d48c', 'b7d64a9221007dfd5390f7df6cd5b8f3ea4f82faa1237141e35ebf161f5511a1', '3d7db37d08f9140fd09f12b9621cd0954b6d56a9d2f357fb2c7f5d62636d2fd1', '7d22d390ec67d1aa03eca9ca45884b3c83a0595d0c152d93dea473052383444c', '61ffa9c8c703dd5e4e5aaaf434f3f6a301ed4a6656144bff6b81a8de9057cbad', 'dc64336a2d181fbc049d3f3d2c09c24a11a8a024eb632476fc16e61be0feda29', '947f187506f7629c81c81879a2cb2256455038e4ac770091d897fa0a8b945e3b', '6f49db6846664c1e7f50e0ec19a23795c64bbb0a373989b63d0ba6ca2f2f2d8f', 'bbc5e661e106c6dcd8dc6dd186454c2fcba3c710fb4d8e71a60c93eaf077f073', '6923dd1bc0460082c5d55a831908c24a282860b7f1cd6c2b79cf1bc8857c639c', 'c432b3dedcd6852f1ab51c8a28e24e8bb9f4428717666be42cdacaac07c71a36', '315557cdb6b8055d76d37a5c00e15fd3a06fa2c03721cbf7cdb196bae0dffc6f', 'e2efdd7db924f31dc81b659db07e6eba303497f110acbe8dddb8c13f2e3786d7', '5709ff28b655e82531c0fb3b0193b8ec9b1849128d8a0840c43d91ecb8e620d0', 'dc64336a2d181fbc049d3f3d2c09c24a11a8a024eb632476fc16e61be0feda29', '406effb1e9c59672c66a598c2b21e331b23b16c54024e96d6df3e7c173549791', '21b2eed1e328a2c62fe4c17d51188bdea73450f29956dc5c8c95429313ddd72c', 'a0aa99c86e2c4dd6e56c1b23929cb84bf97cc7f18bc4f2cf5b15890f0f4a0e82', '704a1142c7056b69b9b5dce8bcc23df7bb6f8e662b2a3f990854f37114485dd7', 'd1b2a59fbea7e20077af9f91b27e95e865061b270be03ff539ab3b73587882e8', '21b2eed1e328a2c62fe4c17d51188bdea73450f29956dc5c8c95429313ddd72c', '93c68148f4acfe0d728451ad16f9ecc126da864b61f2012c31e344d2b7b7aa4b', '406effb1e9c59672c66a598c2b21e331b23b16c54024e96d6df3e7c173549791', '2acb9cbbdb3b6b7c34acf499728a4a2d89b647327d8d5a25484065f8b7f57a7f', 'acaf4450f715396e89c2bbdc848061093b61e166ced76bb1e09f80436529b5fe', 'fe6d3468cf5c74d8ec2a95b40f2e05338c37a4202f8fad692d2b64a9cf9b468a', '21b2eed1e328a2c62fe4c17d51188bdea73450f29956dc5c8c95429313ddd72c', 'b7a8a844a613be796bc1892dc480f9d92c50d32a5713a87758e5c5addc4ec814', 'a8038884f8ec5d3389eceafa6fc9fd0811506844f651e70f4b10a54d93368333', 'd548c5b83fa61d8e3bd86ad42a7ffea9b7c86e3f9d8095c1577d3e1270bb9420', 'f839161355091fcd9e33f571e0b11c60217a5009f9973e769c13d7858db162cc', '35390f5453e810b6248028c63e5860ce4b2ec6401d3849a7f4f871c0d183c22b', 'b28b1ed9821f38c64524ea13e19264bb0772f8376afffd5d8a1f8277621833eb', '8c90cbf5d27d61f534ee012ea472714b0149ee526e43e0903ff7f07ce7ea4758', 'dc64336a2d181fbc049d3f3d2c09c24a11a8a024eb632476fc16e61be0feda29', '9bfac98c5b6579fbb4b8d692c608d0aac4d9bf74ddda202976b2f29330ada888', '50d858e0985ecc7f60418aaf0cc5ab587f42c2570a884095a9e8ccacd0f6545c', 'bbfcd4160a1e8674dac62292ae48be4785262ad7078f9ec11b74a254ce70fa06', 'a42d519714d616e9411dbceec4b52808bd6b1ee53e6f6497a281d655357d8b71', '1f64fff08d787e732e04559f4d241876b399d9d4251af79833bd22adbb2d331a', 'b3eacd33433b31b5252351032c9b3e7a2e7aa7738d5decdf0dd6c62680853c06', '1fe289205936c3fdb61158223892c7a8bee6ff4dfa085ea1c094ce0294e32114', '16367aacb67a4a017c8da8ab95682ccb390863780f7114dda0a0e0c55644c7c4', 'a42d519714d616e9411dbceec4b52808bd6b1ee53e6f6497a281d655357d8b71', '1f64fff08d787e732e04559f4d241876b399d9d4251af79833bd22adbb2d331a', '3549b0028b75d981cdda2e573e9cb49dedc200185876df299f912b79f69dabd8', 'b3eacd33433b31b5252351032c9b3e7a2e7aa7738d5decdf0dd6c62680853c06', 'f839161355091fcd9e33f571e0b11c60217a5009f9973e769c13d7858db162cc', '1fe289205936c3fdb61158223892c7a8bee6ff4dfa085ea1c094ce0294e32114', 'a7cd62b5948d9355c4d2c792a8b5dfbc1b2e3baff78d7624d027a647cd84ab62', 'c0cea2dd285281f7893d49fb1f28644d36777194b1c4655dbeb3b49944daa04f', 'dc64336a2d181fbc049d3f3d2c09c24a11a8a024eb632476fc16e61be0feda29', 'afed2f77cefe58d821f08e334aeb42e52facc63c4f97e9d5d18f53fd0e285953', '1e6ed65d77d6364eeaed5a745ba5c4985ae2b700dd85d7cf7f027bdf294a33fc', 'f9d35d43770d39092a663e665e82ae1d84a9e0da3d0d10c407acada6a40cd281', '01cfc309bfc026dd4c48b8c92e1fa89ff3ad31e831e1355002d32c7a6cf6d48c', 'b7d64a9221007dfd5390f7df6cd5b8f3ea4f82faa1237141e35ebf161f5511a1', '3d7db37d08f9140fd09f12b9621cd0954b6d56a9d2f357fb2c7f5d62636d2fd1', '7d22d390ec67d1aa03eca9ca45884b3c83a0595d0c152d93dea473052383444c', '61ffa9c8c703dd5e4e5aaaf434f3f6a301ed4a6656144bff6b81a8de9057cbad', 'dc64336a2d181fbc049d3f3d2c09c24a11a8a024eb632476fc16e61be0feda29', '947f187506f7629c81c81879a2cb2256455038e4ac770091d897fa0a8b945e3b', '6f49db6846664c1e7f50e0ec19a23795c64bbb0a373989b63d0ba6ca2f2f2d8f', 'bbc5e661e106c6dcd8dc6dd186454c2fcba3c710fb4d8e71a60c93eaf077f073', '6923dd1bc0460082c5d55a831908c24a282860b7f1cd6c2b79cf1bc8857c639c', 'c432b3dedcd6852f1ab51c8a28e24e8bb9f4428717666be42cdacaac07c71a36', '315557cdb6b8055d76d37a5c00e15fd3a06fa2c03721cbf7cdb196bae0dffc6f', 'e2efdd7db924f31dc81b659db07e6eba303497f110acbe8dddb8c13f2e3786d7', '5709ff28b655e82531c0fb3b0193b8ec9b1849128d8a0840c43d91ecb8e620d0', 'dc64336a2d181fbc049d3f3d2c09c24a11a8a024eb632476fc16e61be0feda29', '406effb1e9c59672c66a598c2b21e331b23b16c54024e96d6df3e7c173549791', '21b2eed1e328a2c62fe4c17d51188bdea73450f29956dc5c8c95429313ddd72c', 'a0aa99c86e2c4dd6e56c1b23929cb84bf97cc7f18bc4f2cf5b15890f0f4a0e82', '704a1142c7056b69b9b5dce8bcc23df7bb6f8e662b2a3f990854f37114485dd7', 'd1b2a59fbea7e20077af9f91b27e95e865061b270be03ff539ab3b73587882e8', '21b2eed1e328a2c62fe4c17d51188bdea73450f29956dc5c8c95429313ddd72c', '93c68148f4acfe0d728451ad16f9ecc126da864b61f2012c31e344d2b7b7aa4b', '406effb1e9c59672c66a598c2b21e331b23b16c54024e96d6df3e7c173549791', '2acb9cbbdb3b6b7c34acf499728a4a2d89b647327d8d5a25484065f8b7f57a7f', 'acaf4450f715396e89c2bbdc848061093b61e166ced76bb1e09f80436529b5fe', 'fe6d3468cf5c74d8ec2a95b40f2e05338c37a4202f8fad692d2b64a9cf9b468a', '21b2eed1e328a2c62fe4c17d51188bdea73450f29956dc5c8c95429313ddd72c', 'b7a8a844a613be796bc1892dc480f9d92c50d32a5713a87758e5c5addc4ec814', 'a8038884f8ec5d3389eceafa6fc9fd0811506844f651e70f4b10a54d93368333']\n"
     ]
    }
   ],
   "source": [
    "tokens = token_filter(word_tokenize(text))\n",
    "print(hash(tokens))"
   ]
  },
  {
   "cell_type": "code",
   "execution_count": 264,
   "metadata": {},
   "outputs": [
    {
     "data": {
      "text/plain": [
       "'bc2b8eae451c2fa383d08fc60dbc5270a942c15d830f79d93895bd0f5c361240'"
      ]
     },
     "execution_count": 264,
     "metadata": {},
     "output_type": "execute_result"
    }
   ],
   "source": [
    "hashlib.sha256('dfdgfd'.encode()).hexdigest()"
   ]
  },
  {
   "cell_type": "code",
   "execution_count": 233,
   "metadata": {},
   "outputs": [
    {
     "name": "stdout",
     "output_type": "stream",
     "text": [
      "['docker', 'used', 'software', 'packages', 'called', 'containers', 'typical', 'example', 'case', 'container', 'runs', 'server', 'application', 'second', 'container', 'runs', 'database', 'server', 'used', 'application', 'citation', 'needed', 'containers', 'isolated', 'bundle', 'tools', 'libraries', 'configuration', 'files', 'communicate', 'channels', 'containers', 'single', 'operating', 'system', 'kernel', 'thus', 'lightweight', 'virtual', 'machines', 'containers', 'created', 'images', 'specify', 'precise', 'contents', 'images', 'often', 'created', 'combining', 'modifying', 'standard', 'images', 'downloaded', 'repositories', 'docker', 'used', 'software', 'packages', 'called', 'containers', 'typical', 'example', 'case', 'container', 'runs', 'server', 'application', 'second', 'container', 'runs', 'database', 'server', 'used', 'application', 'citation', 'needed', 'containers', 'isolated', 'bundle', 'tools', 'libraries', 'configuration', 'files', 'communicate', 'channels', 'containers', 'single', 'operating', 'system', 'kernel', 'thus', 'lightweight', 'virtual', 'machines', 'containers', 'created', 'images', 'specify', 'precise', 'contents', 'images', 'often', 'created', 'combining', 'modifying', 'standard', 'images', 'downloaded', 'repositories']\n"
     ]
    }
   ],
   "source": [
    "tokens3 = [token for token in word_tokenize(text) if token_filter1(token)]\n",
    "print(tokens)"
   ]
  },
  {
   "cell_type": "code",
   "execution_count": 234,
   "metadata": {},
   "outputs": [],
   "source": [
    "stemmed = stem(tokens)"
   ]
  },
  {
   "cell_type": "code",
   "execution_count": 73,
   "metadata": {},
   "outputs": [],
   "source": [
    "lemmatized = lemmatize(tokens)"
   ]
  },
  {
   "cell_type": "code",
   "execution_count": 165,
   "metadata": {},
   "outputs": [],
   "source": [
    "filename_tokenized_spacy = '../data/tokenized_nltk_stemmed.txt'\n",
    "file = open(filename_tokenized_spacy, 'w')\n",
    "file.write('\\n'.join(tokens))\n",
    "file.close()"
   ]
  },
  {
   "cell_type": "code",
   "execution_count": 166,
   "metadata": {},
   "outputs": [],
   "source": [
    "filename_tokenized_spacy = '../data/tokenized_nltk_lemmatized.txt'\n",
    "file = open(filename_tokenized_spacy, 'w')\n",
    "file.write('\\n'.join(tokens))\n",
    "file.close()"
   ]
  },
  {
   "cell_type": "code",
   "execution_count": null,
   "metadata": {},
   "outputs": [],
   "source": []
  }
 ],
 "metadata": {
  "kernelspec": {
   "display_name": "Python 3",
   "language": "python",
   "name": "python3"
  },
  "language_info": {
   "codemirror_mode": {
    "name": "ipython",
    "version": 3
   },
   "file_extension": ".py",
   "mimetype": "text/x-python",
   "name": "python",
   "nbconvert_exporter": "python",
   "pygments_lexer": "ipython3",
   "version": "3.6.3"
  }
 },
 "nbformat": 4,
 "nbformat_minor": 2
}
